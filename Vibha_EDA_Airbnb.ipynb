{
  "nbformat": 4,
  "nbformat_minor": 0,
  "metadata": {
    "colab": {
      "private_outputs": true,
      "provenance": [],
      "include_colab_link": true
    },
    "kernelspec": {
      "name": "python3",
      "display_name": "Python 3"
    },
    "language_info": {
      "name": "python"
    }
  },
  "cells": [
    {
      "cell_type": "markdown",
      "metadata": {
        "id": "view-in-github",
        "colab_type": "text"
      },
      "source": [
        "<a href=\"https://colab.research.google.com/github/vibha-sanghani/EDA-AirBnb-Bookings-Analysis/blob/main/Vibha_EDA_Airbnb.ipynb\" target=\"_parent\"><img src=\"https://colab.research.google.com/assets/colab-badge.svg\" alt=\"Open In Colab\"/></a>"
      ]
    },
    {
      "cell_type": "markdown",
      "source": [
        "# AirBnb Bookings Analysis\n"
      ],
      "metadata": {
        "id": "vncDsAP0Gaoa"
      }
    },
    {
      "cell_type": "markdown",
      "source": [
        "##### **Project Type**    - Exploratory Data Analysis\n",
        "##### **Contribution**    - Individual\n"
      ],
      "metadata": {
        "id": "beRrZCGUAJYm"
      }
    },
    {
      "cell_type": "markdown",
      "source": [
        "# **Project Summary -**"
      ],
      "metadata": {
        "id": "FJNUwmbgGyua"
      }
    },
    {
      "cell_type": "markdown",
      "source": [
        "This project focuses on analyzing a dataset comprising approximately 49,000 observations. The primary objective is to uncover valuable insights that can guide management and stakeholders in making informed decisions to drive business growth. By identifying trends and patterns within the data, actionable recommendations can be formulated to improve and expand the business. This analysis benefits both guests and hosts by providing insights to help guests make informed choices and guiding hosts on necessary improvements to enhance their offerings and achieve sustainable growth. Key information provided includes:\n",
        "\n",
        "*   Listing Counts\n",
        "*   Data Distributed as per specific neighborhood groups\n",
        "*   Prices\n",
        "*   Reviews data\n",
        "*   Room Type Preference\n",
        "\n",
        "Using this information we will be able to seek insights like:-\n",
        "\n",
        "*   Preference of the guests for their hosts\n",
        "*   Room-Type preference\n",
        "*   Prefered Price range\n",
        "*   Most preferred neighborhood\n",
        "\n",
        "This project involves diving deep into a rich dataset of nearly 49,000 observations to uncover actionable insights that drive growth and innovation. The ultimate goal is to empower stakeholders with a clear understanding of the trends and patterns shaping the business landscape. By analyzing this data, we aim to create a personalized experience for our guests and provide meaningful guidance to our hosts, enabling them to cater to specific needs more effectively.\n",
        "\n",
        "One key outcome will be the development of a dynamic filtering system that allows guests to discover listings tailored to their budget and preferences. Simultaneously, hosts will be ranked based on their ability to meet guest requirements, fostering healthy competition and encouraging improvements. This dual-sided approach ensures an enhanced guest experience and actionable insights for hosts to refine their offerings, ultimately driving satisfaction and loyalty.\n",
        "\n",
        "From a technical perspective, data wrangling will play a critical role, with Pandas as the backbone for cleaning, organizing, and structuring the dataset. For numerical computations and ranking algorithms, NumPy will enable efficient array operations and seamless handling of numerical data. To communicate our findings effectively, we will leverage the power of Matplotlib and Seaborn to craft visually compelling stories from the data, ensuring stakeholders grasp insights effortlessly.\n",
        "\n",
        "Beyond the technical scope, this project is a valuable learning experience. By simulating a real-world business scenario, I will gain insights into the operational models of this field, from problem identification to crafting practical solutions. Developing a strategic mindset, mastering the utilization of Python libraries, and applying complex concepts creatively will be essential milestones.\n",
        "\n",
        "Ultimately, this project is not just about data analysis—it's about transforming raw numbers into meaningful narratives that guide decision-making and fuel growth. It’s an opportunity to polish my critical thinking, enhance my storytelling with data, and prepare for solving real-world business challenges effectively.\n",
        "\n",
        "\n",
        "\n"
      ],
      "metadata": {
        "id": "F6v_1wHtG2nS"
      }
    },
    {
      "cell_type": "markdown",
      "source": [
        "# **GitHub Link -**"
      ],
      "metadata": {
        "id": "w6K7xa23Elo4"
      }
    },
    {
      "cell_type": "markdown",
      "source": [
        "Provide your GitHub Link here."
      ],
      "metadata": {
        "id": "h1o69JH3Eqqn"
      }
    },
    {
      "cell_type": "markdown",
      "source": [
        "# **Problem Statement**\n"
      ],
      "metadata": {
        "id": "yQaldy8SH6Dl"
      }
    },
    {
      "cell_type": "markdown",
      "source": [
        "The task of this project is to derive insights from the given dataset so that it can be used by the stake holders for business improvements"
      ],
      "metadata": {
        "id": "DpeJGUA3kjGy"
      }
    },
    {
      "cell_type": "markdown",
      "source": [
        "#### **Define Your Business Objective?**"
      ],
      "metadata": {
        "id": "PH-0ReGfmX4f"
      }
    },
    {
      "cell_type": "markdown",
      "source": [
        "The business objective of this project is to identify opportuinites of improvements and also to derive patterns and insights of customer's preference which will ultimately help us in achieving customer satisfaction."
      ],
      "metadata": {
        "id": "PhDvGCAqmjP1"
      }
    },
    {
      "cell_type": "markdown",
      "source": [
        "# **General Guidelines** : -  "
      ],
      "metadata": {
        "id": "mDgbUHAGgjLW"
      }
    },
    {
      "cell_type": "markdown",
      "source": [
        "1.   Well-structured, formatted, and commented code is required.\n",
        "2.   Exception Handling, Production Grade Code & Deployment Ready Code will be a plus. Those students will be awarded some additional credits.\n",
        "     \n",
        "     The additional credits will have advantages over other students during Star Student selection.\n",
        "       \n",
        "             [ Note: - Deployment Ready Code is defined as, the whole .ipynb notebook should be executable in one go\n",
        "                       without a single error logged. ]\n",
        "\n",
        "3.   Each and every logic should have proper comments.\n",
        "4. You may add as many number of charts you want. Make Sure for each and every chart the following format should be answered.\n",
        "        \n",
        "\n",
        "```\n",
        "# Chart visualization code\n",
        "```\n",
        "            \n",
        "\n",
        "*   Why did you pick the specific chart?\n",
        "*   What is/are the insight(s) found from the chart?\n",
        "* Will the gained insights help creating a positive business impact?\n",
        "Are there any insights that lead to negative growth? Justify with specific reason.\n",
        "\n",
        "5. You have to create at least 20 logical & meaningful charts having important insights.\n",
        "\n",
        "\n",
        "[ Hints : - Do the Vizualization in  a structured way while following \"UBM\" Rule.\n",
        "\n",
        "U - Univariate Analysis,\n",
        "\n",
        "B - Bivariate Analysis (Numerical - Categorical, Numerical - Numerical, Categorical - Categorical)\n",
        "\n",
        "M - Multivariate Analysis\n",
        " ]\n",
        "\n",
        "\n",
        "\n"
      ],
      "metadata": {
        "id": "ZrxVaUj-hHfC"
      }
    },
    {
      "cell_type": "markdown",
      "source": [
        "# ***Let's Begin !***"
      ],
      "metadata": {
        "id": "O_i_v8NEhb9l"
      }
    },
    {
      "cell_type": "markdown",
      "source": [
        "## ***1. Know Your Data***"
      ],
      "metadata": {
        "id": "HhfV-JJviCcP"
      }
    },
    {
      "cell_type": "markdown",
      "source": [
        "### Import Libraries"
      ],
      "metadata": {
        "id": "Y3lxredqlCYt"
      }
    },
    {
      "cell_type": "code",
      "source": [
        "# Import Libraries\n",
        "import pandas as pd\n",
        "import numpy as np\n",
        "from matplotlib import pyplot as plt\n",
        "import math\n",
        "import seaborn as sns\n",
        "import openpyxl\n",
        "pd.set_option('display.max_columns', 200)"
      ],
      "metadata": {
        "id": "M8Vqi-pPk-HR"
      },
      "execution_count": null,
      "outputs": []
    },
    {
      "cell_type": "markdown",
      "source": [
        "### Dataset Loading"
      ],
      "metadata": {
        "id": "3RnN4peoiCZX"
      }
    },
    {
      "cell_type": "code",
      "source": [
        "# Load Dataset\n",
        "# df_airbnb = pd.DataFrame(pd.read_csv(\"Airbnb NYC 2019.csv\"))\n",
        "# Load the dataset\n",
        "from google.colab import drive\n",
        "drive.mount('/content/drive')\n",
        "file_path = '/content/drive/My Drive/AlmaBetter Project/M2-Project/Airbnb NYC 2019.csv'\n",
        "\n",
        "df_airbnb = pd.read_csv(file_path)"
      ],
      "metadata": {
        "id": "4CkvbW_SlZ_R"
      },
      "execution_count": null,
      "outputs": []
    },
    {
      "cell_type": "markdown",
      "source": [
        "### Dataset First View"
      ],
      "metadata": {
        "id": "x71ZqKXriCWQ"
      }
    },
    {
      "cell_type": "code",
      "source": [
        "# Dataset First Look\n",
        "df_airbnb.head(5)"
      ],
      "metadata": {
        "id": "LWNFOSvLl09H"
      },
      "execution_count": null,
      "outputs": []
    },
    {
      "cell_type": "markdown",
      "source": [
        "Above is an initial glimpse of the dataset we will be working with. Let us now delve deeper into the data to explore its structure and uncover meaningful insights.\n",
        "\n"
      ],
      "metadata": {
        "id": "cJomGEN7qUkt"
      }
    },
    {
      "cell_type": "code",
      "source": [
        "#check for all the columns we have in our dataset.\n",
        "df_airbnb.columns"
      ],
      "metadata": {
        "id": "OrNaIqNR436S"
      },
      "execution_count": null,
      "outputs": []
    },
    {
      "cell_type": "markdown",
      "source": [
        "Here is a comprehensive overview of all the columns present in our dataset."
      ],
      "metadata": {
        "id": "ZfKiSbp347zT"
      }
    },
    {
      "cell_type": "markdown",
      "source": [
        "### Dataset Rows & Columns count"
      ],
      "metadata": {
        "id": "7hBIi_osiCS2"
      }
    },
    {
      "cell_type": "code",
      "source": [
        "# Dataset Rows & Columns count\n",
        "df_airbnb.shape"
      ],
      "metadata": {
        "id": "Kllu7SJgmLij"
      },
      "execution_count": null,
      "outputs": []
    },
    {
      "cell_type": "markdown",
      "source": [
        "Examining the shape of the dataset reveals a substantial number of rows compared to columns, indicating a robust dataset. Specifically, it comprises:\n",
        "\n",
        "Rows: 48,895\n",
        "Columns: 16"
      ],
      "metadata": {
        "id": "oCnsZvTmqtqV"
      }
    },
    {
      "cell_type": "markdown",
      "source": [
        "### Dataset Information"
      ],
      "metadata": {
        "id": "JlHwYmJAmNHm"
      }
    },
    {
      "cell_type": "code",
      "source": [
        "# Dataset Info\n",
        "df_airbnb.info()"
      ],
      "metadata": {
        "id": "e9hRXRi6meOf"
      },
      "execution_count": null,
      "outputs": []
    },
    {
      "cell_type": "markdown",
      "source": [
        "\n",
        "The dataset demonstrates a clear division between numerical and categorical variables, summarized as follows:\n",
        "* **Numerical Data:**\n",
        "  *   3 colums with float64 data type\n",
        "  *   7 columns with int64 data type\n",
        "* **Categorical Data:**\n",
        "  * 6 columns with object data type.\n",
        "\n"
      ],
      "metadata": {
        "id": "pK14BWkMrE8G"
      }
    },
    {
      "cell_type": "markdown",
      "source": [
        "#### Duplicate Values"
      ],
      "metadata": {
        "id": "35m5QtbWiB9F"
      }
    },
    {
      "cell_type": "code",
      "source": [
        "# Dataset Duplicate Value Count\n",
        "df_airbnb.duplicated().sum()"
      ],
      "metadata": {
        "id": "1sLdpKYkmox0"
      },
      "execution_count": null,
      "outputs": []
    },
    {
      "cell_type": "markdown",
      "source": [
        "From this analysis, we observe that there are no exact duplicate values present in the dataset."
      ],
      "metadata": {
        "id": "I_H2GzdUsPO9"
      }
    },
    {
      "cell_type": "code",
      "source": [
        "# Converting the 'last_review' column in a datetime format.\n",
        "df_airbnb['last_review'] = pd.to_datetime(df_airbnb['last_review'],errors='coerce')\n",
        "df_airbnb.info()"
      ],
      "metadata": {
        "id": "MKMfr6HUuAD1"
      },
      "execution_count": null,
      "outputs": []
    },
    {
      "cell_type": "code",
      "source": [
        "# Now let us sort the data by the last_review column\n",
        "df_airbnb = df_airbnb.sort_values(by='last_review', ascending=False).reset_index(drop=True)\n",
        "df_airbnb"
      ],
      "metadata": {
        "id": "vo5lZvsiuHeM"
      },
      "execution_count": null,
      "outputs": []
    },
    {
      "cell_type": "markdown",
      "source": [
        "As we can see there are few NA values in our dataframe in the date column let's fill these values with the latest dates we are having in our dataframe."
      ],
      "metadata": {
        "id": "MfIgPEuSuiDM"
      }
    },
    {
      "cell_type": "code",
      "source": [
        "# Replacing NA Values\n",
        "df_airbnb['last_review'].replace(np.nan,df_airbnb['last_review'].max(), inplace=True)\n",
        "\n",
        "# Let's sort the values again\n",
        "df_airbnb = df_airbnb.sort_values(by='last_review', ascending=False).reset_index(drop=True)\n",
        "df_airbnb"
      ],
      "metadata": {
        "id": "t_9br6IwusL0"
      },
      "execution_count": null,
      "outputs": []
    },
    {
      "cell_type": "code",
      "source": [
        "# Dropping duplicated values\n",
        "df_airbnb = df_airbnb.drop_duplicates(subset=['name', 'host_name', 'neighbourhood_group', 'neighbourhood', 'room_type'], keep='first').reset_index(drop=True)\n",
        "\n",
        "df_airbnb.shape # (48662, 16)\n",
        "\n",
        "# Let's check if there are any duplicated values now\n",
        "df_airbnb[df_airbnb.duplicated(subset=['name', 'host_name', 'neighbourhood_group', 'neighbourhood', 'room_type'])] # No values\n",
        "df_airbnb.duplicated().sum() # 0 duplicate"
      ],
      "metadata": {
        "id": "iAxosG-TvJms"
      },
      "execution_count": null,
      "outputs": []
    },
    {
      "cell_type": "markdown",
      "source": [
        "We have successfully dropped the duplicated values and now we only have latest data values."
      ],
      "metadata": {
        "id": "Pp3rkUo5wCzz"
      }
    },
    {
      "cell_type": "code",
      "source": [
        "# Missing Values/Null Values Count\n",
        "null_values_count = df_airbnb.isnull().sum()\n",
        "\n",
        "# Visualizing the missing values\n",
        "null_values_count\n"
      ],
      "metadata": {
        "id": "GgHWkxvamxVg"
      },
      "execution_count": null,
      "outputs": []
    },
    {
      "cell_type": "markdown",
      "source": [],
      "metadata": {
        "id": "KaTavMvQ0oqr"
      }
    },
    {
      "cell_type": "markdown",
      "source": [
        "As we can see we were having missing values in name, host_name,and reviews_per_month columns"
      ],
      "metadata": {
        "id": "0LpfJJzdz_bj"
      }
    },
    {
      "cell_type": "markdown",
      "source": [],
      "metadata": {
        "id": "9QCO6xDh2_iT"
      }
    },
    {
      "cell_type": "code",
      "source": [
        "# To check the outliers we need to check the columns which are having numerical data.\n",
        "df_airbnb.describe()"
      ],
      "metadata": {
        "id": "qkyerpjJzxID"
      },
      "execution_count": null,
      "outputs": []
    },
    {
      "cell_type": "markdown",
      "source": [
        "### What did you know about your dataset?"
      ],
      "metadata": {
        "id": "H0kj-8xxnORC"
      }
    },
    {
      "cell_type": "markdown",
      "source": [
        "\n",
        "The Airbnb NYC 2019 dataset contains 48,895 rows and 16 columns. It includes both numerical and categorical data, with 3 columns of float64, 7 columns of int64, and 6 columns of object data types. The primary key is the \"id\" column, which uniquely identifies the hotel listings.\n",
        "\n",
        "The columns in the dataset are as follows:\n",
        "['id', 'name', 'host_id', 'host_name', 'neighbourhood_group', 'neighbourhood', 'latitude', 'longitude', 'room_type', 'price', 'minimum_nights', 'number_of_reviews', 'last_review', 'reviews_per_month', 'calculated_host_listings_count', 'availability_365']\n",
        "\n",
        "This dataset had no exact duplicated values.In our dataset we were able to use the 'last_review' column as the timestamp for our dataset.\n",
        "\n",
        "The dataset had missing values primarily in last_review and reviews_per_month (9989 missing entries). For missing last_review, we replaced the NA values with the most recent date available. Additionally, there were a few missing values in the name (16) and host_name (21) columns.\n",
        "\n",
        "After addressing these issues, the dataframe is now cleaned and ready for data wrangling."
      ],
      "metadata": {
        "id": "gfoNAAC-nUe_"
      }
    },
    {
      "cell_type": "markdown",
      "source": [
        "## ***2. Understanding Your Variables***"
      ],
      "metadata": {
        "id": "nA9Y7ga8ng1Z"
      }
    },
    {
      "cell_type": "code",
      "source": [
        "# Dataset Columns\n",
        "df_airbnb.head()"
      ],
      "metadata": {
        "id": "j7xfkqrt5Ag5"
      },
      "execution_count": null,
      "outputs": []
    },
    {
      "cell_type": "code",
      "source": [
        "# Dataset Describe\n",
        "df_describe = df_airbnb.describe()\n",
        "df_describe # These are all the numerical variables in our dataset."
      ],
      "metadata": {
        "id": "DnOaZdaE5Q5t"
      },
      "execution_count": null,
      "outputs": []
    },
    {
      "cell_type": "markdown",
      "source": [
        "### Variables Description"
      ],
      "metadata": {
        "id": "PBTbrJXOngz2"
      }
    },
    {
      "cell_type": "markdown",
      "source": [
        "The dataset provides various outputs that can help derive key insights. For instance, while the price range is broad, the average price preferred by customers is around 150, offering insight into guest budgets and preferences."
      ],
      "metadata": {
        "id": "aJV4KIxSnxay"
      }
    },
    {
      "cell_type": "markdown",
      "source": [
        "### Check Unique Values for each variable."
      ],
      "metadata": {
        "id": "u3PMJOP6ngxN"
      }
    },
    {
      "cell_type": "code",
      "source": [
        "# Check Unique Values for each variable.\n",
        "def unique_value(df):\n",
        "  for column in df.columns:\n",
        "    unique_values = df[column].unique()\n",
        "    print(f\"Unique values for '{column}': {unique_values}\")"
      ],
      "metadata": {
        "id": "zms12Yq5n-jE"
      },
      "execution_count": null,
      "outputs": []
    },
    {
      "cell_type": "markdown",
      "source": [
        "## 3. ***Data Wrangling***"
      ],
      "metadata": {
        "id": "dauF4eBmngu3"
      }
    },
    {
      "cell_type": "markdown",
      "source": [
        "### Data Wrangling Code"
      ],
      "metadata": {
        "id": "bKJF3rekwFvQ"
      }
    },
    {
      "cell_type": "markdown",
      "source": [
        "As our Data cleaning, Data transformation, and Handling outliers has been completed, now we will be working on \"Feature Engineering\"."
      ],
      "metadata": {
        "id": "V36Pb17V_qb9"
      }
    },
    {
      "cell_type": "code",
      "source": [
        "# Let's create a new column with the price range distribution.\n",
        "# We will use it while working with the price column.\n",
        "start = 0\n",
        "end = 10000\n",
        "breakpoints = np.linspace(start, end, num=101)\n",
        "breakpoints = breakpoints.astype(int)\n",
        "def price_range(amt):\n",
        "    bp = breakpoints\n",
        "    for i in range(len(breakpoints)-1):\n",
        "        if bp[i] <= amt <= bp[i+1]:\n",
        "            return f\"{bp[i]} - {bp[i+1]}\"\n",
        "\n",
        "\n",
        "df_airbnb['price_range'] = df_airbnb['price'].apply(lambda amt: price_range(amt))\n",
        "df_airbnb['price_range']"
      ],
      "metadata": {
        "id": "wk-9a2fpoLcV"
      },
      "execution_count": null,
      "outputs": []
    },
    {
      "cell_type": "markdown",
      "source": [
        "Creating a price range column offers several advantages that enhance data analysis and decision-making:\n",
        "\n",
        "* Data Summarization: By grouping prices into ranges, we gain a clearer and more concise summary of the dataset's price distribution.\n",
        "\n",
        "* Improved Visualization: Representing data through price ranges makes visualizations more effective and easier to interpret compared to analyzing individual price points.\n",
        "\n",
        "* Segmentation and Analysis: Dividing prices into ranges enables straightforward comparisons between different segments, making it easier to identify patterns and trends.\n",
        "\n",
        "* Informed Decision-Making: Price ranges support better decision-making by providing insights that can guide recommendations based on customer budgets and requirements.\n",
        "\n",
        "* Insight Communication: Using price ranges simplifies the process of communicating customer preferences and purchasing power. It also highlights where the majority of customers fall within the price spectrum, aiding in targeted strategies."
      ],
      "metadata": {
        "id": "DGRrhVgMBrlL"
      }
    },
    {
      "cell_type": "code",
      "source": [
        "# Let's take a glance at our dataset once.\n",
        "df_airbnb.head()\n",
        "\n",
        "# As we can see our dataset is sorted according to the last review, let us sort our dataset according to the price.\n",
        "df_airbnb.sort_values(by='price', ascending=False, inplace=True)\n",
        "\n",
        "# Let's take a look at our price sorted dataset once.\n",
        "df_airbnb.head()"
      ],
      "metadata": {
        "id": "ThYMY7OhCV8z"
      },
      "execution_count": null,
      "outputs": []
    },
    {
      "cell_type": "code",
      "source": [
        "# Check our columns and filter those columns that will work as our features.\n",
        "df_airbnb.columns"
      ],
      "metadata": {
        "id": "XTmLgBuvDBGy"
      },
      "execution_count": null,
      "outputs": []
    },
    {
      "cell_type": "code",
      "source": [
        "# Let's filter the dataframe with only the required columns.\n",
        "df_feature = df_airbnb[['id', 'name', 'host_id', 'neighbourhood_group',\n",
        "       'neighbourhood', 'room_type', 'price','last_review', 'price_range','minimum_nights',\n",
        "       'number_of_reviews', 'reviews_per_month', 'calculated_host_listings_count',\n",
        "       'availability_365', ]]\n",
        "df_feature=df_feature.reset_index(drop=True)\n",
        "df_feature.head()"
      ],
      "metadata": {
        "id": "q0BXrg2UDZbR"
      },
      "execution_count": null,
      "outputs": []
    },
    {
      "cell_type": "markdown",
      "source": [
        "This dataset contains several distinct groups. Let's explore these groups further to uncover meaningful insights by analyzing the information specific to each group."
      ],
      "metadata": {
        "id": "BMy2tRZHFsvh"
      }
    },
    {
      "cell_type": "code",
      "source": [
        "# Let's check the top performing Host as per the total listing count\n",
        "host_groups = df_feature.groupby('name')\n",
        "hosts = []\n",
        "no_of_listings = []\n",
        "host_prices = []\n",
        "for host, data in host_groups:\n",
        "  hosts.append(host)\n",
        "  no_of_listings.append(data['calculated_host_listings_count'].sum())\n",
        "  host_prices.append(data['price'].mean())\n",
        "\n",
        "host_df = pd.DataFrame({\n",
        "    'Host Name': hosts,\n",
        "    'Total Listings': no_of_listings,\n",
        "    'Price': host_prices\n",
        "})\n",
        "host_df = host_df.sort_values(by='Total Listings', ascending=False).reset_index(drop=True)\n",
        "host_df = host_df.drop_duplicates(subset='Total Listings').reset_index(drop=True)\n",
        "top_10_hosts = host_df.head(10)\n",
        "\n",
        "host_df['Revenue'] = (host_df['Total Listings'])*(host_df['Price'])\n",
        "top_host_revenue = host_df.sort_values(by='Revenue', ascending=False).reset_index(drop=True)\n",
        "top_host_revenue.head(10)"
      ],
      "metadata": {
        "id": "OLuYlTgwGFdY"
      },
      "execution_count": null,
      "outputs": []
    },
    {
      "cell_type": "code",
      "source": [
        "# First we check how many neighbourhood_groups are there.\n",
        "df_feature['neighbourhood_group'].unique() # There are 5 different neighbourhood groups.\n",
        "# ['Queens', 'Manhattan', 'Brooklyn', 'Staten Island', 'Bronx']\n",
        "\n",
        "n_groups=df_feature.groupby('neighbourhood_group')\n",
        "n_groups\n",
        "\n",
        "# Let's check which group is most prefered as per the listings, and no. of reviews.\n",
        "groups = [] # To save the groups\n",
        "listings = []\n",
        "reviews = []\n",
        "max_price = []\n",
        "min_price = []\n",
        "for group, data in n_groups:\n",
        "  groups.append(group)\n",
        "  listings.append(data['calculated_host_listings_count'].sum())\n",
        "  reviews.append(data['number_of_reviews'].sum())\n",
        "  max_price.append(data['price'].max())\n",
        "  min_price.append(data['price'].min())\n",
        "\n",
        "df_neighbour_group = pd.DataFrame({\n",
        "    'Group': groups,\n",
        "    'Listing Count': listings,\n",
        "    'No._of_reviews': reviews,\n",
        "    'Min Price': min_price,\n",
        "    'Max Price': max_price\n",
        "})\n",
        "\n",
        "df_neighbour_group"
      ],
      "metadata": {
        "id": "cTwyX-YmGeWZ"
      },
      "execution_count": null,
      "outputs": []
    },
    {
      "cell_type": "markdown",
      "source": [
        "Here we can see that Manhattan group is the most prefered group as per the listings.However the most reviews are given to the Brooklyn group.\n"
      ],
      "metadata": {
        "id": "nvL6ozuaHeqX"
      }
    },
    {
      "cell_type": "code",
      "source": [
        "# Now let's divide our dataset as per the room types, and create their groups.\n",
        "# Check how room_types are there.\n",
        "\n",
        "df_feature['room_type'].unique() # There are 3 room types.\n",
        "# ['Entire home/apt', 'Private room', 'Shared room']\n",
        "\n",
        "#  let's group our dataset according to the room types.\n",
        "room_groups = df_feature.groupby('room_type')\n",
        "rooms = []\n",
        "room_listings = []\n",
        "room_reviews = []\n",
        "max_room_price = []\n",
        "min_room_price = []\n",
        "for room_type, room_data in room_groups:\n",
        "    rooms.append(room_type)\n",
        "    room_listings.append(room_data['calculated_host_listings_count'].sum())\n",
        "    max_room_price.append(room_data['price'].max())\n",
        "    min_room_price.append(room_data['price'].min())\n",
        "\n",
        "df_room_group = pd.DataFrame({\n",
        "    'Group': rooms,\n",
        "    'Listing Count': room_listings,\n",
        "    'Min Price': min_room_price,\n",
        "    'Max Price': max_room_price\n",
        "})\n",
        "\n",
        "df_room_group\n"
      ],
      "metadata": {
        "id": "O8MW2rFVHx-O"
      },
      "execution_count": null,
      "outputs": []
    },
    {
      "cell_type": "markdown",
      "source": [
        "It is evident that the most preferred room type is the \"Entire home/apt,\" which also receives the highest number of reviews. On the other hand, \"Shared rooms\" are the least preferred option."
      ],
      "metadata": {
        "id": "yiOjcabgIg61"
      }
    },
    {
      "cell_type": "markdown",
      "source": [],
      "metadata": {
        "id": "dV5xk2-oIfe-"
      }
    },
    {
      "cell_type": "code",
      "source": [
        "# Now let us check how many different neighbourhoods are there in total.\n",
        "df_feature['neighbourhood'].count() # there are 48662 neighbourhoods"
      ],
      "metadata": {
        "id": "poQV5xG2I9bu"
      },
      "execution_count": null,
      "outputs": []
    },
    {
      "cell_type": "code",
      "source": [
        "# Now let us check what are the top 10 most prefered neighbourhoods.\n",
        "# Also, let's check their average pricing and average price range.\n",
        "area_groups = df_feature.groupby('neighbourhood')\n",
        "areas = []\n",
        "listing_count = []\n",
        "avg_price = []\n",
        "for area, n_data in area_groups:\n",
        "  areas.append(area)\n",
        "  listing_count.append(n_data['calculated_host_listings_count'].sum())\n",
        "  avg_price.append(round(n_data['price'].mean(), 2))\n",
        "\n",
        "df_area = pd.DataFrame({\n",
        "    'Area': areas,\n",
        "    'Listing Count': listing_count,\n",
        "    'Average Price': avg_price,\n",
        "})\n",
        "\n",
        "df_area = df_area.sort_values(by='Listing Count', ascending=False).reset_index(drop=True).head(10)\n",
        "df_area"
      ],
      "metadata": {
        "id": "36T48_9UJVI5"
      },
      "execution_count": null,
      "outputs": []
    },
    {
      "cell_type": "code",
      "source": [
        "# To analyze the relationship between price and room type,\n",
        "#'ll examine the price distribution for each room type.\n",
        "# Using the grouped DataFrame room_groups,\n",
        "# we calculate the average price for each room type as follows:\n",
        "\n",
        "# Calculate the average price for each room type\n",
        "avg_prices = [data['price'].mean() for room, data in room_groups]\n",
        "\n",
        "# Create a new DataFrame to store the results\n",
        "room_vs_price = pd.DataFrame({\n",
        "    'Room Type': rooms,\n",
        "    'Avg Price': avg_prices\n",
        "})\n",
        "\n",
        "room_vs_price"
      ],
      "metadata": {
        "id": "qfF2HhaQKHRG"
      },
      "execution_count": null,
      "outputs": []
    },
    {
      "cell_type": "markdown",
      "source": [
        "As observed, the \"Entire home/apt\" has the highest average pricing compared to other room types."
      ],
      "metadata": {
        "id": "zBKobYsoL-n1"
      }
    },
    {
      "cell_type": "code",
      "source": [
        "# Relationship: Reviews per Month vs. Room Type\n",
        "total_room =[data['reviews_per_month'].sum() for room, data in room_groups]\n",
        "room_vs_reviews = pd.DataFrame({\n",
        "    'Room Type': rooms,\n",
        "    'Total Reviews': total_room\n",
        "})\n",
        "\n",
        "room_vs_reviews"
      ],
      "metadata": {
        "id": "OHz-BIkpK6o8"
      },
      "execution_count": null,
      "outputs": []
    },
    {
      "cell_type": "markdown",
      "source": [
        "By analyzing the room_vs_reviews DataFrame, we can see the total number of reviews per month for each room type. As observed, the \"Entire home/apt\" has the highest number of reviews."
      ],
      "metadata": {
        "id": "yc5jkuORKxfD"
      }
    },
    {
      "cell_type": "markdown",
      "source": [
        "### What all manipulations have you done and insights you found?"
      ],
      "metadata": {
        "id": "MSa1f5Uengrz"
      }
    },
    {
      "cell_type": "markdown",
      "source": [
        "Answer Here."
      ],
      "metadata": {
        "id": "LbyXE7I1olp8"
      }
    },
    {
      "cell_type": "markdown",
      "source": [
        "## ***4. Data Vizualization, Storytelling & Experimenting with charts : Understand the relationships between variables***"
      ],
      "metadata": {
        "id": "GF8Ens_Soomf"
      }
    },
    {
      "cell_type": "markdown",
      "source": [
        "#### Chart - 1"
      ],
      "metadata": {
        "id": "0wOQAZs5pc--"
      }
    },
    {
      "cell_type": "code",
      "source": [
        "# Chart - 1 visualization code : Line Chart # check number of reviews base on last review in 10 years\n",
        "\n",
        "\n",
        "# Filter reviews from the last 10 years\n",
        "current_date = pd.Timestamp.now()\n",
        "cutoff_date = current_date - pd.DateOffset(years=10)\n",
        "df_last_10_years = df_feature[df_feature['last_review'] >= cutoff_date]\n",
        "\n",
        "# Extract the year from the 'last_review' column\n",
        "df_last_10_years['review_year'] = df_last_10_years['last_review'].dt.year\n",
        "\n",
        "# Count the number of reviews per year\n",
        "# reviews_per_year = df_last_10_years['review_year'].value_counts().sort_index()\n",
        "\n",
        "# Group by year and sum 'number_of_reviews'\n",
        "reviews_per_year=df_last_10_years.groupby('review_year')['number_of_reviews'].sum()\n",
        "\n",
        "# Plot the results in line graph\n",
        "plt.figure(figsize=(10, 6))\n",
        "# reviews_per_year.plot(kind='bar', color='skyblue', edgecolor='black')\n",
        "sns.lineplot(x=reviews_per_year.index, y=reviews_per_year.values, marker='o', color='skyblue')\n",
        "plt.title('Number of Reviews in the Last 10 Years', fontsize=12, fontweight='bold')\n",
        "plt.xlabel('Year', fontsize=10)\n",
        "plt.ylabel('Number of Reviews', fontsize=10)\n",
        "plt.grid(axis='y', linestyle='--', alpha=0.7)\n",
        "plt.show()\n"
      ],
      "metadata": {
        "id": "7v_ESjsspbW7"
      },
      "execution_count": null,
      "outputs": []
    },
    {
      "cell_type": "markdown",
      "source": [
        "##### 1. Why did you pick the specific chart?"
      ],
      "metadata": {
        "id": "K5QZ13OEpz2H"
      }
    },
    {
      "cell_type": "markdown",
      "source": [
        "A line chart is a good choice to visualize trends over time. In this case, the chart is used to see how the number of reviews has changed over the past 10 years."
      ],
      "metadata": {
        "id": "XESiWehPqBRc"
      }
    },
    {
      "cell_type": "markdown",
      "source": [
        "##### 2. What is/are the insight(s) found from the chart?"
      ],
      "metadata": {
        "id": "lQ7QKXXCp7Bj"
      }
    },
    {
      "cell_type": "markdown",
      "source": [
        "The chart shows that the number of reviews has fluctuated over the past 10 years, but there is no clear upward or downward trend."
      ],
      "metadata": {
        "id": "C_j1G7yiqdRP"
      }
    },
    {
      "cell_type": "markdown",
      "source": [
        "##### 3. Will the gained insights help creating a positive business impact?\n",
        "Are there any insights that lead to negative growth? Justify with specific reason."
      ],
      "metadata": {
        "id": "448CDAPjqfQr"
      }
    },
    {
      "cell_type": "markdown",
      "source": [
        "Yes, the insights gained from this chart can help create a positive business impact. For example, if the business can identify what is driving the fluctuations in the number of reviews, they can take steps to increase the number of positive reviews. However, there is no evidence to suggest that the current number of reviews is leading to negative growth."
      ],
      "metadata": {
        "id": "3cspy4FjqxJW"
      }
    },
    {
      "cell_type": "markdown",
      "source": [
        "#### Chart - 2"
      ],
      "metadata": {
        "id": "KSlN3yHqYklG"
      }
    },
    {
      "cell_type": "code",
      "source": [
        "# Chart - 2 visualization code : Bar Chart\n",
        "# As now we are having the price ranges with the most listings let us check the neighbourhoods with the most listings.\n",
        "\n",
        "# Sort the data by 'Listing Count' in descending order and take the top 10 rows\n",
        "df_top_10 = df_area.sort_values(by='Listing Count', ascending=False).head(10)\n",
        "# Set up the figure\n",
        "plt.figure(figsize=(17, 5))\n",
        "# Define the color palette\n",
        "# colors = ['red', 'blue', 'green', 'orange', 'purple', 'pink', 'cyan', 'brown', 'yellow', 'gray']\n",
        "sns.barplot(data=df_top_10,x='Area',y='Listing Count',hue='Area',palette='viridis',legend=False)\n",
        "plt.xlabel('Area')\n",
        "plt.ylabel('Listing Count')\n",
        "plt.title('Top 10 prefered neighbourhood areas',fontdict={'fontweight': 'bold', 'fontsize': 12})\n",
        "# Add data labels\n",
        "for x,y in zip(df_top_10['Area'],df_top_10['Listing Count']):\n",
        "    plt.text(x,y,y,ha='center',va='bottom',fontsize=10)\n",
        "plt.show()"
      ],
      "metadata": {
        "id": "R4YgtaqtYklH"
      },
      "execution_count": null,
      "outputs": []
    },
    {
      "cell_type": "markdown",
      "source": [
        "##### 1. Why did you pick the specific chart?"
      ],
      "metadata": {
        "id": "t6dVpIINYklI"
      }
    },
    {
      "cell_type": "markdown",
      "source": [
        "A bar chart is a good choice to compare categorical data. In this case, the chart is used to compare the number of listings in different neighborhoods.\n",
        "\n"
      ],
      "metadata": {
        "id": "5aaW0BYyYklI"
      }
    },
    {
      "cell_type": "markdown",
      "source": [
        "##### 2. What is/are the insight(s) found from the chart?"
      ],
      "metadata": {
        "id": "ijmpgYnKYklI"
      }
    },
    {
      "cell_type": "markdown",
      "source": [
        "The chart shows that the top 10 neighborhoods have a significantly higher number of listings than the other neighborhoods. The most popular neighborhood, Financial District, has nearly 85,000 listings, while the least popular neighborhood, Tribeca, has only 7,519 listings."
      ],
      "metadata": {
        "id": "PSx9atu2YklI"
      }
    },
    {
      "cell_type": "markdown",
      "source": [
        "##### 3. Will the gained insights help creating a positive business impact?\n",
        "Are there any insights that lead to negative growth? Justify with specific reason."
      ],
      "metadata": {
        "id": "-JiQyfWJYklI"
      }
    },
    {
      "cell_type": "markdown",
      "source": [
        "Yes, the insights gained from this chart can help create a positive business impact. For example, businesses can focus their marketing efforts on the neighborhoods that are most popular with renters. Additionally, businesses can use this information to decide where to open new locations."
      ],
      "metadata": {
        "id": "BcBbebzrYklV"
      }
    },
    {
      "cell_type": "markdown",
      "source": [
        "#### Chart - 3"
      ],
      "metadata": {
        "id": "EM7whBJCYoAo"
      }
    },
    {
      "cell_type": "code",
      "source": [
        "# Chart - 3 visualization code : Pie Chart\n",
        "# Visualize the most prefered room type using a pie chart\n",
        "# Set up the figure\n",
        "plt.figure(figsize=(8, 4))\n",
        "# colors = ['#b5651d', '#8b4513', '#deb887']\n",
        "colors = ['#2e8b57', '#87ceeb', '#f0e68c']\n",
        "plt.pie(df_room_group['Listing Count'], labels=df_room_group['Group'], autopct='%1.1f%%', explode=(0.1, 0, 0.1), shadow=True, colors=colors,\n",
        "    startangle=360)\n",
        "plt.title('Most Prefered Room Type', fontsize=12, fontweight='bold')\n",
        "plt.axis('equal')\n",
        "plt.legend()\n",
        "plt.show()"
      ],
      "metadata": {
        "id": "t6GMdE67YoAp"
      },
      "execution_count": null,
      "outputs": []
    },
    {
      "cell_type": "markdown",
      "source": [
        "##### 1. Why did you pick the specific chart?"
      ],
      "metadata": {
        "id": "fge-S5ZAYoAp"
      }
    },
    {
      "cell_type": "markdown",
      "source": [
        "Pie chart was used because it shows the relative frequencies of their listing counts for each room type. It is easy to compare the percentage distribution established for each room type in this data visualization, allowing users to quickly determine the most and least popular room types."
      ],
      "metadata": {
        "id": "5dBItgRVYoAp"
      }
    },
    {
      "cell_type": "markdown",
      "source": [
        "##### 2. What is/are the insight(s) found from the chart?"
      ],
      "metadata": {
        "id": "85gYPyotYoAp"
      }
    },
    {
      "cell_type": "markdown",
      "source": [
        "The chart shows that entire home/apartments are the most preferred room type, accounting for 77.6% of listings. Private rooms are the second most popular choice, at 20.8%, while shared rooms are the least popular, at 1.6%."
      ],
      "metadata": {
        "id": "4jstXR6OYoAp"
      }
    },
    {
      "cell_type": "markdown",
      "source": [
        "##### 3. Will the gained insights help creating a positive business impact?\n",
        "Are there any insights that lead to negative growth? Justify with specific reason."
      ],
      "metadata": {
        "id": "RoGjAbkUYoAp"
      }
    },
    {
      "cell_type": "markdown",
      "source": [
        "* Positive Impact: Analysis of room type interests makes it easier to know the areas to market by and redesign the stock to reflect popular choices like ‘Entire home/apt.’\n",
        "\n",
        "* Negative Growth: Offering too many rooms in the ‘Shared room’ category, or not offering an adequate number of rooms for the right price could harm a company since many rooms would likely remain empty.\n",
        "\n",
        "* Justification: The separation of business goals from customers’ needs can lead to inefficient distribution of resources resulting in losses.\n"
      ],
      "metadata": {
        "id": "zfJ8IqMcYoAp"
      }
    },
    {
      "cell_type": "markdown",
      "source": [
        "#### Chart - 4"
      ],
      "metadata": {
        "id": "4Of9eVA-YrdM"
      }
    },
    {
      "cell_type": "code",
      "source": [
        "# Chart - 4 visualization code : Bar Chart\n",
        "# To display only the top 10 neighborhoods in the bar chart based on the Listing Count\n",
        "\n",
        "# Sort the data by 'Listing Count' in descending order and take the top 10 rows\n",
        "df_sort = df_neighbour_group.sort_values(by='Listing Count', ascending=False)\n",
        "# Set up the figure\n",
        "plt.figure(figsize=(10, 5))\n",
        "# Define the color palette\n",
        "colors = ['blue', 'green', 'purple', 'yellow', 'brown']\n",
        "\n",
        "sns.barplot(data=df_sort,x='Group',y='Listing Count',hue='Group',palette=colors,legend=False)\n",
        "plt.xlabel('Neighbourhood Group')\n",
        "plt.ylabel('Listing Count')\n",
        "plt.title('Most Prefered Neighbourhoods',fontdict={'fontweight': 'bold', 'fontsize': 12})\n",
        "for x,y in zip(df_sort['Group'],df_sort['Listing Count']):\n",
        "    plt.text(x,y,y,ha='center',va='bottom')\n",
        "plt.show()"
      ],
      "metadata": {
        "id": "irlUoxc8YrdO"
      },
      "execution_count": null,
      "outputs": []
    },
    {
      "cell_type": "markdown",
      "source": [
        "##### 1. Why did you pick the specific chart?"
      ],
      "metadata": {
        "id": "iky9q4vBYrdO"
      }
    },
    {
      "cell_type": "markdown",
      "source": [
        "Bar charts are well-suited for comparing categorical data. This chart specifically compares the number of listings in various neighborhoods."
      ],
      "metadata": {
        "id": "aJRCwT6DYrdO"
      }
    },
    {
      "cell_type": "markdown",
      "source": [
        "##### 2. What is/are the insight(s) found from the chart?"
      ],
      "metadata": {
        "id": "F6T5p64dYrdO"
      }
    },
    {
      "cell_type": "markdown",
      "source": [
        "Insignt that can be found from the chart:\n",
        "* Manhattan has the most listings (around 450,000).\n",
        "* Staten Island has the least listings (around 850)."
      ],
      "metadata": {
        "id": "Xx8WAJvtYrdO"
      }
    },
    {
      "cell_type": "markdown",
      "source": [
        "##### 3. Will the gained insights help creating a positive business impact?\n",
        "Are there any insights that lead to negative growth? Justify with specific reason."
      ],
      "metadata": {
        "id": "y-Ehk30pYrdP"
      }
    },
    {
      "cell_type": "markdown",
      "source": [
        "Answer Here"
      ],
      "metadata": {
        "id": "jLNxxz7MYrdP"
      }
    },
    {
      "cell_type": "markdown",
      "source": [
        "Positive business impact: By understanding which neighborhoods have the most listings, businesses can target their marketing efforts to those areas. This can help them to reach a wider audience and increase their sales.\n",
        "\n",
        "Negative business impact: If a business focuses only on the neighborhoods with the most listings, they may miss out on potential customers in other neighborhoods. It is important to consider other factors, such as demographics and psychographics, when targeting customers."
      ],
      "metadata": {
        "id": "Yl8dqJsPFA2M"
      }
    },
    {
      "cell_type": "markdown",
      "source": [
        "#### Chart - 5"
      ],
      "metadata": {
        "id": "bamQiAODYuh1"
      }
    },
    {
      "cell_type": "code",
      "source": [
        "# Chart - 5 visualization code : Scatter Plot # number_of_reviews vs reviews_per_month\n",
        "sns.scatterplot(data=df_feature, x='number_of_reviews',y='reviews_per_month',color='dodgerblue',alpha=0.8, )\n",
        "\n",
        "# Add labels, title, and legend\n",
        "plt.title('Number of Reviews vs Reviews Per Month', fontsize=12, fontweight='bold')\n",
        "plt.xlabel('Number of Reviews', fontsize=10)\n",
        "plt.ylabel('Reviews Per Month', fontsize=10)\n",
        "plt.show()\n"
      ],
      "metadata": {
        "id": "TIJwrbroYuh3"
      },
      "execution_count": null,
      "outputs": []
    },
    {
      "cell_type": "markdown",
      "source": [
        "##### 1. Why did you pick the specific chart?"
      ],
      "metadata": {
        "id": "QHF8YVU7Yuh3"
      }
    },
    {
      "cell_type": "markdown",
      "source": [
        "A scatter plot is the best choice to visualize the relationship between two continuous variables (number of reviews and reviews per month)."
      ],
      "metadata": {
        "id": "dcxuIMRPYuh3"
      }
    },
    {
      "cell_type": "markdown",
      "source": [
        "##### 2. What is/are the insight(s) found from the chart?"
      ],
      "metadata": {
        "id": "GwzvFGzlYuh3"
      }
    },
    {
      "cell_type": "markdown",
      "source": [
        "There is a positive correlation between the number of reviews and reviews per month. This means that businesses or products with more reviews tend to receive more reviews per month."
      ],
      "metadata": {
        "id": "uyqkiB8YYuh3"
      }
    },
    {
      "cell_type": "markdown",
      "source": [
        "##### 3. Will the gained insights help creating a positive business impact?\n",
        "Are there any insights that lead to negative growth? Justify with specific reason."
      ],
      "metadata": {
        "id": "qYpmQ266Yuh3"
      }
    },
    {
      "cell_type": "markdown",
      "source": [
        "Yes as we can seek out the difference from the given reviews and make specific recommendations to our hosts about what changes can be done by them in order to increase their reach to the customers. This can be one of our premium services that can widely help our hosts."
      ],
      "metadata": {
        "id": "_WtzZ_hCYuh4"
      }
    },
    {
      "cell_type": "markdown",
      "source": [
        "#### Chart - 6 - Correlation Heatmap"
      ],
      "metadata": {
        "id": "NC_X3p0fY2L0"
      }
    },
    {
      "cell_type": "code",
      "source": [
        "# Correlation Heatmap visualization code\n",
        "df_feature.describe()\n",
        "\n",
        "plt.figure(figsize=(8, 4))\n",
        "df_heatmap= df_feature[['price', 'minimum_nights', 'number_of_reviews',\n",
        "             'reviews_per_month', 'calculated_host_listings_count', 'availability_365']].corr()\n",
        "# define the mask to set the values in the upper triangle to True\n",
        "# mask = np.triu(np.ones_like(df_heatmap))\n",
        "hetmap1 = sns.heatmap(data = df_heatmap,annot=True)\n",
        "hetmap1.set_title('Correlation Heatmap', fontdict={'fontsize':12,'fontweight': 'bold'}, pad=16);\n"
      ],
      "metadata": {
        "id": "xyC9zolEZNRQ"
      },
      "execution_count": null,
      "outputs": []
    },
    {
      "cell_type": "markdown",
      "source": [
        "##### 1. Why did you pick the specific chart?"
      ],
      "metadata": {
        "id": "UV0SzAkaZNRQ"
      }
    },
    {
      "cell_type": "markdown",
      "source": [
        "As it allows to easily visualize the relationships among various numerical features, the correlation heatmap was chosen. This makes it easier for the user to appreciate the strength with which various variables are related which is important in comprehending the data and choosing features for further analysis."
      ],
      "metadata": {
        "id": "DVPuT8LYZNRQ"
      }
    },
    {
      "cell_type": "markdown",
      "source": [
        "##### 2. What is/are the insight(s) found from the chart?"
      ],
      "metadata": {
        "id": "YPEH6qLeZNRQ"
      }
    },
    {
      "cell_type": "markdown",
      "source": [
        "The following conclusions can be drawn from the chart:\n",
        "\n",
        "* Variables which have strong positive or negative correlations are selected for further studies (e.g., features which have high relation with price may be useful in making predictions).\n",
        "* Very weak correlations denote features that are unlikely to affect one another, thus assisting in feature selection.\n",
        "* For instance, availability_365 and number_of_reviews may have certain price trends that can be used in business strategies."
      ],
      "metadata": {
        "id": "bfSqtnDqZNRR"
      }
    },
    {
      "cell_type": "markdown",
      "source": [
        "#### Chart - 7 - Pair Plot"
      ],
      "metadata": {
        "id": "q29F0dvdveiT"
      }
    },
    {
      "cell_type": "code",
      "source": [
        "# Pair Plot visualization code\n",
        "sns.pairplot(df_feature,palette='Set1')\n"
      ],
      "metadata": {
        "id": "o58-TEIhveiU"
      },
      "execution_count": null,
      "outputs": []
    },
    {
      "cell_type": "markdown",
      "source": [
        "##### 1. Why did you pick the specific chart?"
      ],
      "metadata": {
        "id": "EXh0U9oCveiU"
      }
    },
    {
      "cell_type": "markdown",
      "source": [
        "Here we can easily see the distribution of our numerical variables, it will also give us an overview of our dataset and the relationships between our variables."
      ],
      "metadata": {
        "id": "eMmPjTByveiU"
      }
    },
    {
      "cell_type": "markdown",
      "source": [
        "##### 2. What is/are the insight(s) found from the chart?"
      ],
      "metadata": {
        "id": "22aHeOlLveiV"
      }
    },
    {
      "cell_type": "markdown",
      "source": [
        "Yes, we can see that the utmost majority of our complete data set is within the price range of 0-2500."
      ],
      "metadata": {
        "id": "uPQ8RGwHveiV"
      }
    },
    {
      "cell_type": "markdown",
      "source": [
        "## **5. Solution to Business Objective**"
      ],
      "metadata": {
        "id": "JcMwzZxoAimU"
      }
    },
    {
      "cell_type": "markdown",
      "source": [
        "#### What do you suggest the client to achieve Business Objective ?\n",
        "Explain Briefly."
      ],
      "metadata": {
        "id": "8G2x9gOozGDZ"
      }
    },
    {
      "cell_type": "markdown",
      "source": [
        "Answer Here."
      ],
      "metadata": {
        "id": "pASKb0qOza21"
      }
    },
    {
      "cell_type": "markdown",
      "source": [
        "# **Conclusion**"
      ],
      "metadata": {
        "id": "gCX9965dhzqZ"
      }
    },
    {
      "cell_type": "markdown",
      "source": [
        "The exploratory data analysis provides clear insights into customer preferences and demand patterns. Approximately 90% of our business activity is concentrated on specific areas, whether in terms of regional preferences or pricing. This saturation highlights what resonates with our customers. By leveraging these findings, we can strategically replicate successful elements across other areas to align with customer expectations and drive growth."
      ],
      "metadata": {
        "id": "Fjb1IsQkh3yE"
      }
    },
    {
      "cell_type": "markdown",
      "source": [
        "### ***Hurrah! You have successfully completed your EDA Capstone Project !!!***"
      ],
      "metadata": {
        "id": "gIfDvo9L0UH2"
      }
    },
    {
      "cell_type": "code",
      "source": [
        "# df_airbnb"
      ],
      "metadata": {
        "id": "vCF7Px_8Ig1W"
      },
      "execution_count": null,
      "outputs": []
    }
  ]
}